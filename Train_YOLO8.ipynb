{
  "cells": [
    {
      "cell_type": "code",
      "source": [
        "### baseline\n",
        "# establish baseline: Epochs (Done)\n",
        "\n",
        "### dataset\n",
        "# construct bigger dataset\n",
        "# add background images to reduce FP\n",
        "# augment with other coral images (?)\n",
        "\n",
        "### other changes\n",
        "# perform preprocessing of images\n",
        "# analyse and understand dataset\n",
        "# different image sizes (Bigger for better detection)\n",
        "# images with a number of different transformations/augmentations\n",
        "# changing hyperparameters (https://github.com/ultralytics/yolov5/issues/607)\n",
        "# different model sizes"
      ],
      "metadata": {
        "id": "fbmrSg7y8uF4"
      },
      "execution_count": 1,
      "outputs": []
    },
    {
      "cell_type": "code",
      "source": [
        "from google.colab import drive\n",
        "drive.mount('/content/drive')"
      ],
      "metadata": {
        "colab": {
          "base_uri": "https://localhost:8080/"
        },
        "id": "HMD-cNelLQVz",
        "outputId": "689445fa-d022-4cf7-c008-51bd0a42e5c0"
      },
      "execution_count": 2,
      "outputs": [
        {
          "output_type": "stream",
          "name": "stdout",
          "text": [
            "Mounted at /content/drive\n"
          ]
        }
      ]
    },
    {
      "cell_type": "code",
      "execution_count": 3,
      "metadata": {
        "colab": {
          "base_uri": "https://localhost:8080/"
        },
        "id": "CjpPg4mGKc1v",
        "outputId": "bce7ba72-dcec-4249-933c-cbd2f7e8df14"
      },
      "outputs": [
        {
          "output_type": "stream",
          "name": "stdout",
          "text": [
            "/content\n"
          ]
        }
      ],
      "source": [
        "# creating a home variable\n",
        "\n",
        "import os\n",
        "import glob\n",
        "import re\n",
        "import seaborn as sns\n",
        "import matplotlib.pyplot as plt\n",
        "\n",
        "HOME = os.getcwd()\n",
        "print(HOME)"
      ]
    },
    {
      "cell_type": "code",
      "execution_count": 4,
      "metadata": {
        "colab": {
          "base_uri": "https://localhost:8080/"
        },
        "id": "tdSMcABDNKW-",
        "outputId": "3e0418af-6f41-44a5-b6c4-14ebb6653f36"
      },
      "outputs": [
        {
          "output_type": "stream",
          "name": "stderr",
          "text": [
            "Ultralytics YOLOv8.0.20 🚀 Python-3.10.12 torch-2.0.1+cu118 CPU\n",
            "Setup complete ✅ (2 CPUs, 12.7 GB RAM, 26.5/107.7 GB disk)\n"
          ]
        }
      ],
      "source": [
        "# installation of libraries\n",
        "\n",
        "!pip install ultralytics==8.0.20\n",
        "!pip install roboflow --quiet\n",
        "\n",
        "from IPython import display\n",
        "display.clear_output()\n",
        "\n",
        "import ultralytics\n",
        "ultralytics.checks()"
      ]
    },
    {
      "cell_type": "code",
      "execution_count": 5,
      "metadata": {
        "id": "VOEYrlBoP9-E"
      },
      "outputs": [],
      "source": [
        "from ultralytics import YOLO\n",
        "from IPython.display import display, Image\n",
        "from roboflow import Roboflow\n",
        "import numpy as np"
      ]
    },
    {
      "cell_type": "code",
      "execution_count": 6,
      "metadata": {
        "id": "BSd93ZJzZZKt",
        "colab": {
          "base_uri": "https://localhost:8080/"
        },
        "outputId": "0e44609b-e48b-4c26-d379-9c2e203393be"
      },
      "outputs": [
        {
          "output_type": "stream",
          "name": "stdout",
          "text": [
            "/content/datasets\n",
            "loading Roboflow workspace...\n",
            "loading Roboflow project...\n",
            "Dependency ultralytics==8.0.134 is required but found version=8.0.20, to fix: `pip install ultralytics==8.0.134`\n"
          ]
        },
        {
          "output_type": "stream",
          "name": "stderr",
          "text": [
            "Downloading Dataset Version Zip in Coral-Detection-CI-2 to yolov8:: 100%|██████████| 7546/7546 [00:00<00:00, 9512.41it/s] "
          ]
        },
        {
          "output_type": "stream",
          "name": "stdout",
          "text": [
            "\n"
          ]
        },
        {
          "output_type": "stream",
          "name": "stderr",
          "text": [
            "\n",
            "Extracting Dataset Version Zip to Coral-Detection-CI-2 in yolov8:: 100%|██████████| 271/271 [00:00<00:00, 3941.65it/s]\n"
          ]
        }
      ],
      "source": [
        "# load the dataset\n",
        "\n",
        "!mkdir {HOME}/datasets\n",
        "%cd {HOME}/datasets\n",
        "\n",
        "rf = Roboflow(api_key=\"ask-ishan\")\n",
        "project = rf.workspace(\"ishan-nangia-v1cd3\").project(\"coral-detection-ci\")\n",
        "dataset = project.version(2).download(\"yolov8\")"
      ]
    },
    {
      "cell_type": "code",
      "source": [
        "# train\n",
        "\n",
        "%cd {HOME}\n",
        "model = YOLO('yolov8m.pt')\n",
        "results = model.train(data=f\"{dataset.location}/data.yaml\", epochs=300, plots=True)"
      ],
      "metadata": {
        "id": "UWpm2w1Pn036"
      },
      "execution_count": null,
      "outputs": []
    },
    {
      "cell_type": "code",
      "execution_count": null,
      "metadata": {
        "id": "_J35i8Ofhjxa"
      },
      "outputs": [],
      "source": [
        "%cd {HOME}\n",
        "Image(filename=f'{HOME}/runs/detect/train/confusion_matrix.png', width=600)"
      ]
    },
    {
      "cell_type": "code",
      "execution_count": null,
      "metadata": {
        "id": "A-urTWUkhRmn"
      },
      "outputs": [],
      "source": [
        "%cd {HOME}\n",
        "Image(filename=f'{HOME}/runs/detect/train/results.png', width=600)"
      ]
    },
    {
      "cell_type": "code",
      "execution_count": null,
      "metadata": {
        "id": "HI4nADCCj3F5"
      },
      "outputs": [],
      "source": [
        "%cd {HOME}\n",
        "Image(filename=f'{HOME}/runs/detect/train/val_batch0_pred.jpg', width=600)"
      ]
    },
    {
      "cell_type": "markdown",
      "metadata": {
        "id": "mEYIo95n-I0S"
      },
      "source": [
        "### Validation"
      ]
    },
    {
      "cell_type": "code",
      "source": [
        "# if training hasn't been done\n",
        "\n",
        "%cd {HOME}\n",
        "\n",
        "from pathlib import Path\n",
        "Path(f'{HOME}/runs/detect/train/weights/').mkdir( parents=True, exist_ok=True)"
      ],
      "metadata": {
        "id": "RjjO6xyQfAoH",
        "colab": {
          "base_uri": "https://localhost:8080/"
        },
        "outputId": "c0e7bff7-194e-4d85-81cb-e47b1475c6cc"
      },
      "execution_count": null,
      "outputs": [
        {
          "output_type": "stream",
          "name": "stdout",
          "text": [
            "/content\n"
          ]
        }
      ]
    },
    {
      "cell_type": "code",
      "source": [
        "## load model\n",
        "# model = YOLO(f'{HOME}/runs/detect/train/weights/best.pt')\n",
        "\n",
        "model = YOLO(f'/content/drive/MyDrive/Coastal Impact/yolo_model.pt')"
      ],
      "metadata": {
        "id": "d7gFzRsqrgnV"
      },
      "execution_count": 7,
      "outputs": []
    },
    {
      "cell_type": "code",
      "source": [
        "# validation\n",
        "model.val(data=f\"{dataset.location}/data.yaml\")"
      ],
      "metadata": {
        "id": "7oeOacIogSPn"
      },
      "execution_count": null,
      "outputs": []
    },
    {
      "cell_type": "markdown",
      "source": [
        "### Metrics for our Results"
      ],
      "metadata": {
        "id": "s8P45sNesfP-"
      }
    },
    {
      "cell_type": "markdown",
      "source": [],
      "metadata": {
        "id": "rBfQUDm03jLf"
      }
    },
    {
      "cell_type": "code",
      "source": [
        "def get_iou(box1, box2):\n",
        "    \"\"\"\n",
        "    Implement the intersection over union (IoU) between box1 and box2\n",
        "\n",
        "    Arguments:\n",
        "        box1 -- first box, numpy array with coordinates (xmin, ymin, xmax, ymax)\n",
        "        box2 -- second box, numpy array with coordinates\n",
        "    \"\"\"\n",
        "    x11, y11, x21, y21 = box1\n",
        "    x12, y12, x22, y22 = box2\n",
        "\n",
        "    xi1 = max(x11, x12)\n",
        "    yi1 = max(y11, y12)\n",
        "    xi2 = min(x21, x22)\n",
        "    yi2 = min(y21, y22)\n",
        "\n",
        "    inter_area = max(0, xi2 - xi1) * max(0, yi2 - yi1)\n",
        "    # Calculate the Union area by using Formula: Union(A,B) = A + B - Inter(A,B)\n",
        "    box1_area = (x21 - x11) * (y21 - y11)\n",
        "    box2_area = (x22 - x12) * (y22 - y12)\n",
        "    union_area = box1_area + box2_area - inter_area\n",
        "    # compute the IoU\n",
        "    iou = inter_area / union_area\n",
        "    return iou\n",
        "\n",
        "def generate_iou_plots(dict_iou, results_list):\n",
        "    mean_ious = []\n",
        "    len_ious = []\n",
        "    std_ious = []\n",
        "    for key, val in dict_iou.items():\n",
        "      len_ious.append(len(val)/len(results_list))\n",
        "      mean_ious.append(np.mean(val))\n",
        "      std_ious.append(np.std(val))\n",
        "\n",
        "    fig, ax = plt.subplots(2, 2, figsize=(15, 15), sharex=True)\n",
        "\n",
        "    ax[0, 0].plot(iou_tp_ious.keys(), len_ious)\n",
        "    ax[0,0].set_xlabel('IOU Thresholds')\n",
        "    ax[0,0].set_ylabel('Number of IOU Recorded')\n",
        "    ax[0,0].set_title(f\"Number of IOU Recorded vs IOU thresholds on a per image basis\")\n",
        "\n",
        "    ax[0, 1].plot(iou_tp_ious.keys(), mean_ious)\n",
        "    ax[0, 1].set_xlabel('IOU Thresholds')\n",
        "    ax[0, 1].set_ylabel('Mean IOU')\n",
        "    ax[0, 1].set_title(f\"Mean IOU vs IOU thresholds on a per image basis\")\n",
        "\n",
        "    ax[1, 0].plot(iou_tp_ious.keys(), std_ious)\n",
        "    ax[1, 0].set_xlabel('IOU Thresholds')\n",
        "    ax[1, 0].set_ylabel('STD Dev. in IOU')\n",
        "    ax[1, 0].set_title(f\"Std Dev. in IOU vs IOU thresholds on a per image basis\")\n",
        "\n",
        "    scatter_xs = []\n",
        "    scatter_ys = []\n",
        "    for key, val in dict_iou.items():\n",
        "      scatter_xs.extend([key]*len(val))\n",
        "      scatter_ys.extend(val)\n",
        "\n",
        "    ax[1, 1].scatter(scatter_xs, scatter_ys, alpha=0.5)\n",
        "    ax[1, 1].plot(iou_tp_ious.keys(), mean_ious, color='red', linestyle='dotted')\n",
        "    ax[1, 1].set_xlabel('IOU Thresholds')\n",
        "    ax[1, 1].set_ylabel('Individual IOUs with line of mean')\n",
        "    ax[1, 1].set_title(f\"Individual IOUs vs IOU thresholds\")\n",
        "\n",
        "    return fig, ax"
      ],
      "metadata": {
        "id": "nrWwR6EXNa5j"
      },
      "execution_count": 8,
      "outputs": []
    },
    {
      "cell_type": "code",
      "source": [
        "# results\n",
        "# results = model.predict(source=f\"{dataset.location}/valid/images\")"
      ],
      "metadata": {
        "colab": {
          "base_uri": "https://localhost:8080/"
        },
        "id": "O-82rsDdwisU",
        "outputId": "5240c7ac-12d4-46f3-bbbb-8a079111ce24"
      },
      "execution_count": null,
      "outputs": [
        {
          "output_type": "stream",
          "name": "stderr",
          "text": [
            "Ultralytics YOLOv8.0.20 🚀 Python-3.10.12 torch-2.0.1+cu118 CPU\n",
            "Model summary (fused): 218 layers, 25840918 parameters, 0 gradients, 78.7 GFLOPs\n"
          ]
        }
      ]
    },
    {
      "cell_type": "code",
      "source": [
        "validation_image_names = list(glob.iglob(\"/content/datasets/Coral-Detection-CI-2/valid/images/*\"))"
      ],
      "metadata": {
        "id": "3uTJ40BLn2ug"
      },
      "execution_count": 9,
      "outputs": []
    },
    {
      "cell_type": "code",
      "source": [
        "# find a way around this for sure\n",
        "### this goes through all the images one by one and gets their predictions right now. No batch inference.\n",
        "\n",
        "results_list = []\n",
        "for img in validation_image_names:\n",
        "  result = model.predict(img)\n",
        "  results_list.append(result[0])"
      ],
      "metadata": {
        "id": "rDBWW1o_o3z1",
        "colab": {
          "base_uri": "https://localhost:8080/"
        },
        "outputId": "22108876-26f4-476d-c0fc-645fda5310f9"
      },
      "execution_count": 10,
      "outputs": [
        {
          "output_type": "stream",
          "name": "stderr",
          "text": [
            "Ultralytics YOLOv8.0.20 🚀 Python-3.10.12 torch-2.0.1+cu118 CPU\n",
            "Model summary (fused): 218 layers, 25840918 parameters, 0 gradients, 78.7 GFLOPs\n"
          ]
        }
      ]
    },
    {
      "cell_type": "code",
      "source": [
        "import random\n",
        "\n",
        "import cv2\n",
        "from google.colab.patches import cv2_imshow\n",
        "\n",
        "def draw_bboxes_xyxyn(bboxes, img):\n",
        "  colors = [(150, 150, 150), (0,0,255)]\n",
        "  drawn_img = img.copy()\n",
        "  for i, box in enumerate(bboxes):\n",
        "    x, y, x1, y1 = box\n",
        "    x, x1 = x*img.shape[1], x1*img.shape[1]\n",
        "    y, y1 = y*img.shape[0], y1*img.shape[0]\n",
        "    cv2.rectangle(drawn_img, (int(x), int(y)), (int(x1), int(y1)), colors[i], 2)\n",
        "  return drawn_img"
      ],
      "metadata": {
        "id": "Rs7iFJ3I3tEV"
      },
      "execution_count": 124,
      "outputs": []
    },
    {
      "cell_type": "code",
      "source": [
        "iou_result_dict = {}\n",
        "iou_result_per_image_dict = {}\n",
        "iou_tp_ious = {}\n",
        "iou_fp_condition_not_class_ious = {}\n",
        "iou_fp_nonzero_ious = {}\n",
        "iou_class_result_dict = {}\n",
        "iou_class_result_per_image_dict = {}\n",
        "\n",
        "\n",
        "%cd {HOME}\n",
        "!rm -rf saved_images\n",
        "!mkdir saved_images\n",
        "image_counter = 0\n",
        "\n",
        "iou_start = 0.5\n",
        "iou_end = 1\n",
        "for iou_thresh in np.arange(iou_start, iou_end, 0.1):\n",
        "  tp_ious = []\n",
        "  fp_condition_not_class_ious = []\n",
        "  fp_nonzero_ious = []\n",
        "  class_result_dict = {1:{'tp_count':0,\n",
        "                          'fp_count':0,\n",
        "                          'true_masks_with_match':0,\n",
        "                          'true_masks_no_match':0,\n",
        "                          'mask_count_mismatch':0,\n",
        "                          \"true_mask_count\":0,\n",
        "                          'pred_mask_count':0,\n",
        "                          \"true_multiple_matches\":0,\n",
        "                          \"pred_multiple_matches\":0},\n",
        "                       0:{'tp_count':0,\n",
        "                          'fp_count':0,\n",
        "                          'true_masks_with_match':0,\n",
        "                          'true_masks_no_match':0,\n",
        "                          'mask_count_mismatch':0,\n",
        "                          \"true_mask_count\":0,\n",
        "                          'pred_mask_count':0,\n",
        "                          \"true_multiple_matches\":0,\n",
        "                          \"pred_multiple_matches\":0}\n",
        "                       }\n",
        "  result_dict = {'tp_count':0,\n",
        "                'fp_count':0,\n",
        "                'true_masks_with_match':0,\n",
        "                'true_masks_no_match':0,\n",
        "                'mask_count_mismatch':0,\n",
        "                \"true_mask_count\":0,\n",
        "                'pred_mask_count':0,\n",
        "                \"true_multiple_matches\":0,\n",
        "                \"pred_multiple_matches\":0}\n",
        "\n",
        "  for idx, result_i in enumerate(results_list):\n",
        "    img_name = validation_image_names[idx][:-3] + \"txt\"\n",
        "    img_name = re.sub('images', 'labels', img_name)\n",
        "\n",
        "    with open(img_name) as f:\n",
        "      textfile = f.read()\n",
        "\n",
        "    true_classes = [int(i[0]) for i in textfile.strip().split(\"\\n\")]\n",
        "    true_masks = [[float(j) for j in i.split(' ')[1:]] for i in textfile.strip().split(\"\\n\")]\n",
        "\n",
        "    predicted_classes = result_i.boxes.cls\n",
        "    predicted_masks = result_i.boxes.xyxyn\n",
        "\n",
        "    n_true_masks = len(true_masks)\n",
        "    n_predicted_masks = result_i.boxes.xyxyn.shape[0]\n",
        "\n",
        "    array_mask_match = np.zeros(shape=(n_predicted_masks, n_true_masks))\n",
        "    coral_array_mask_match = np.zeros(shape=(list(predicted_classes).count(0),\n",
        "                                             true_classes.count(0)))\n",
        "    index_change_i = 0\n",
        "\n",
        "    for idx_i, i_true_mask in enumerate(true_masks):\n",
        "      index_change_j = 0\n",
        "\n",
        "      x_i = i_true_mask[::2]\n",
        "      y_i = i_true_mask[1::2]\n",
        "\n",
        "      x_min = min(x_i)\n",
        "      x_max = max(x_i)\n",
        "      y_min = min(y_i)\n",
        "      y_max = max(y_i)\n",
        "\n",
        "      bbox_i = [x_min, y_min, x_max, y_max]\n",
        "\n",
        "      current_true_class = true_classes[idx_i]\n",
        "      if current_true_class==1:\n",
        "        index_change_i = 1\n",
        "\n",
        "      for idx_j, j_predicted_mask in enumerate(predicted_masks):\n",
        "        j_predicted_mask = list(j_predicted_mask.numpy())\n",
        "        iou = get_iou(bbox_i, j_predicted_mask)\n",
        "\n",
        "        current_predicted_class = int(predicted_classes[idx_j].numpy())\n",
        "        if current_predicted_class==1:\n",
        "            index_change_j = 1\n",
        "\n",
        "        condition_iou = iou>=iou_thresh\n",
        "        condition_class = current_true_class==current_predicted_class\n",
        "\n",
        "        if condition_iou and condition_class:\n",
        "          # save image\n",
        "          if np.random.randn()<0.01 and iou_thresh==iou_start:\n",
        "            img_path = validation_image_names[idx]\n",
        "            img = cv2.imread(img_path)\n",
        "            bbox_image = draw_bboxes_xyxyn([bbox_i, j_predicted_mask], img)\n",
        "            cv2.imwrite(f\"saved_images/tp_{idx_i}_{idx_j}_idx_{idx}_iou_{iou}.png\", bbox_image)\n",
        "\n",
        "\n",
        "          array_mask_match[idx_j, idx_i] += 1\n",
        "          if current_true_class==0:\n",
        "            coral_array_idx_j = idx_j - index_change_j\n",
        "            coral_array_idx_i = idx_i - index_change_i\n",
        "            coral_array_mask_match[coral_array_idx_j, coral_array_idx_i] += 1\n",
        "          result_dict[\"tp_count\"] += 1\n",
        "          class_result_dict[current_true_class]['tp_count'] += 1\n",
        "          tp_ious.append(iou)\n",
        "        elif condition_iou and (not condition_class):\n",
        "          fp_condition_not_class_ious.append(iou)\n",
        "        elif iou>0 and condition_class:\n",
        "          fp_nonzero_ious.append(iou)\n",
        "\n",
        "\n",
        "    true_results = array_mask_match.sum(axis = 0)\n",
        "    pred_results = array_mask_match.sum(axis = 1)\n",
        "\n",
        "    result_dict[\"fp_count\"] += list(pred_results).count(0)\n",
        "\n",
        "    result_dict[\"true_masks_with_match\"] += true_results[true_results>=1].shape[0]\n",
        "    result_dict[\"true_masks_no_match\"] += list(true_results).count(0)\n",
        "    result_dict[\"mask_count_mismatch\"] += int(array_mask_match.shape[0]!=array_mask_match.shape[1])\n",
        "    result_dict[\"true_mask_count\"] += array_mask_match.shape[1]\n",
        "    result_dict[\"pred_mask_count\"] += array_mask_match.shape[0]\n",
        "    result_dict[\"true_multiple_matches\"] += true_results[true_results>1].shape[0]\n",
        "    result_dict[\"pred_multiple_matches\"] += pred_results[pred_results>1].shape[0]\n",
        "\n",
        "    coral_true_results = coral_array_mask_match.sum(axis = 0)\n",
        "    coral_pred_results = coral_array_mask_match.sum(axis = 1)\n",
        "\n",
        "    class_result_dict[0][\"fp_count\"] += list(coral_pred_results).count(0)\n",
        "    class_result_dict[0][\"true_masks_with_match\"] += coral_true_results[coral_true_results>=1].shape[0]\n",
        "    class_result_dict[0][\"true_masks_no_match\"] += list(coral_true_results).count(0)\n",
        "    class_result_dict[0][\"mask_count_mismatch\"] += int(coral_array_mask_match.shape[0]!=coral_array_mask_match.shape[1])\n",
        "    class_result_dict[0][\"true_mask_count\"] += coral_array_mask_match.shape[1]\n",
        "    class_result_dict[0][\"pred_mask_count\"] += coral_array_mask_match.shape[0]\n",
        "    class_result_dict[0][\"true_multiple_matches\"] += coral_true_results[coral_true_results>1].shape[0]\n",
        "    class_result_dict[0][\"pred_multiple_matches\"] += coral_pred_results[coral_pred_results>1].shape[0]\n",
        "\n",
        "  iou_result_dict[iou_thresh] = result_dict\n",
        "  iou_result_per_image_dict[iou_thresh] = {key: val/len(results_list) for key, val in result_dict.items()}\n",
        "\n",
        "  iou_class_result_dict[iou_thresh] = class_result_dict\n",
        "  # exclusively done for corals\n",
        "  iou_class_result_per_image_dict[iou_thresh] = {key: val/len(results_list) for key, val in class_result_dict[0].items()}\n",
        "\n",
        "  iou_tp_ious[iou_thresh] = tp_ious\n",
        "  iou_fp_condition_not_class_ious[iou_thresh] = fp_condition_not_class_ious\n",
        "  iou_fp_nonzero_ious[iou_thresh] = fp_nonzero_ious"
      ],
      "metadata": {
        "id": "EPWfCa-wnetS",
        "colab": {
          "base_uri": "https://localhost:8080/"
        },
        "outputId": "bc744325-ca33-4f57-92f7-8ca5457327eb"
      },
      "execution_count": 125,
      "outputs": [
        {
          "output_type": "stream",
          "name": "stdout",
          "text": [
            "/content\n"
          ]
        }
      ]
    },
    {
      "cell_type": "code",
      "source": [
        "fig, ax = generate_iou_plots(iou_fp_nonzero_ious, results_list)"
      ],
      "metadata": {
        "id": "k1rM11ogGGHX"
      },
      "execution_count": null,
      "outputs": []
    },
    {
      "cell_type": "code",
      "source": [
        "# to save the above plots\n",
        "\n",
        "# %cd {HOME}\n",
        "# fig.savefig('iou_fp_nonzero_ious_plots.png')"
      ],
      "metadata": {
        "colab": {
          "base_uri": "https://localhost:8080/"
        },
        "id": "3LmUpycBM1o7",
        "outputId": "8859943d-2d66-4bd8-ff8a-4558bd93ef08"
      },
      "execution_count": null,
      "outputs": [
        {
          "output_type": "stream",
          "name": "stdout",
          "text": [
            "/content\n"
          ]
        }
      ]
    },
    {
      "cell_type": "markdown",
      "source": [
        "What are the current problems with this model?\n",
        "* With high IOU, low TPs: Corals TP go down with higher IOUs\n",
        "* FP increases too for corals\n",
        "* We are predicting more masks than the actual number of masks. Howevever, if we have at least some corals that haven't been labelled, then we our algorithm might be producing the correct amount of masks\n",
        "* Most of our masks do get a match. At IOU 0.7, every two images we will get one mask that hasn't been matched properly."
      ],
      "metadata": {
        "id": "oyv9o6deV6gh"
      }
    },
    {
      "cell_type": "code",
      "source": [
        "%cd {HOME}\n",
        "print(\"DATA EXCL. FOR CORALS\")\n",
        "for key in iou_class_result_dict[0.5][0].keys():\n",
        "  plt.plot(iou_class_result_per_image_dict.keys(), [val[key] for _, val in iou_class_result_per_image_dict.items()])\n",
        "  plt.xlabel('IOU Thresholds')\n",
        "  plt.ylabel(key)\n",
        "  plt.title(f\"{key} vs IOU thresholds on a per image basis\")\n",
        "  plt.savefig(f\"plot_{key}.png\")\n",
        "  plt.show()"
      ],
      "metadata": {
        "id": "h1Aif-23eFh3"
      },
      "execution_count": null,
      "outputs": []
    },
    {
      "cell_type": "code",
      "source": [
        "%cd {HOME}\n",
        "\n",
        "for key in iou_result_dict[0.5].keys():\n",
        "  plt.plot(iou_result_per_image_dict.keys(), [val[key] for _, val in iou_result_per_image_dict.items()])\n",
        "  plt.xlabel('IOU Thresholds')\n",
        "  plt.ylabel(key)\n",
        "  plt.title(f\"{key} vs IOU thresholds on a per image basis\")\n",
        "  plt.savefig(f\"plot_{key}.png\")\n",
        "  plt.show()"
      ],
      "metadata": {
        "id": "0V-GlP3eHXmG"
      },
      "execution_count": null,
      "outputs": []
    },
    {
      "cell_type": "markdown",
      "source": [
        "TO DO:\n",
        "\n",
        "Checking validity of your metrics\n",
        "\n",
        "Per class stats\n",
        "\n",
        "common metrics: Recall/precision, etc.\n",
        "\n",
        "How do your figures compare with whats already being computed by Yolo\n",
        "\n",
        "Come up with all the cases/examples for these metrics and how they will change"
      ],
      "metadata": {
        "id": "YpFot811yeBW"
      }
    },
    {
      "cell_type": "markdown",
      "source": [
        "### Testing"
      ],
      "metadata": {
        "id": "EgZhU6AgvuJ-"
      }
    },
    {
      "cell_type": "code",
      "source": [
        "# testing with selected model\n",
        "\n",
        "## load model\n",
        "model = YOLO(f'{HOME}/runs/detect/train/weights/best.pt')\n",
        "\n",
        "# Perform object detection on an image using the model\n",
        "## pure inference\n",
        "results = model(\"/content/datasets/Coral-Detection-CI-2/valid/images/*\", save=True, plots=True)\n",
        "\n",
        "# Export the model to ONNX format\n",
        "# success = model.export(format='onnx')"
      ],
      "metadata": {
        "id": "lpoOOo_-iWbH"
      },
      "execution_count": null,
      "outputs": []
    },
    {
      "cell_type": "code",
      "execution_count": null,
      "metadata": {
        "id": "jbVjEtPAkz3j"
      },
      "outputs": [],
      "source": [
        "# viewing detection results for specific images\n",
        "\n",
        "import glob\n",
        "from IPython.display import Image, display\n",
        "\n",
        "for image_path in glob.glob(f'{HOME}/runs/detect/predict/*.jpg')[10:15]:\n",
        "      display(Image(filename=image_path, width=600))\n",
        "      print(\"\\n\")"
      ]
    },
    {
      "cell_type": "code",
      "source": [
        "%cd {HOME}\n",
        "from ultralytics.utils.benchmarks import benchmark\n",
        "\n",
        "# Benchmark on GPU\n",
        "benchmark(model=f'{HOME}/runs/detect/train/weights/best.pt',\n",
        "          data=f\"{dataset.location}/data.yaml\", imgsz=640, half=False, device=0)"
      ],
      "metadata": {
        "id": "UqdJgVfstowa"
      },
      "execution_count": null,
      "outputs": []
    },
    {
      "cell_type": "markdown",
      "source": [
        "### Rough"
      ],
      "metadata": {
        "id": "FqnNomIgOFpL"
      }
    },
    {
      "cell_type": "code",
      "source": [
        "%cd {HOME}\n",
        "\n",
        "!yolo task=detect mode=predict model={HOME}/runs/detect/train/weights/best.pt conf=0.25 source={dataset.location}/valid/images save=True"
      ],
      "metadata": {
        "id": "6YEJs69AGn6u"
      },
      "execution_count": null,
      "outputs": []
    },
    {
      "cell_type": "code",
      "source": [],
      "metadata": {
        "id": "yRBjQmKCOHfB"
      },
      "execution_count": null,
      "outputs": []
    },
    {
      "cell_type": "code",
      "source": [],
      "metadata": {
        "id": "W-qFfdq9ORuw"
      },
      "execution_count": null,
      "outputs": []
    },
    {
      "cell_type": "code",
      "source": [
        "bboxes = [[311., 228., 392., 304.],\n",
        "        [101., 372., 233., 466.],\n",
        "        [594., 394., 640., 489.],\n",
        "        [569.,  79., 640., 201.],\n",
        "        [360., 383., 520., 489.],\n",
        "        [161.,  67., 275., 181.]]"
      ],
      "metadata": {
        "id": "NtWYBTetOkwG"
      },
      "execution_count": null,
      "outputs": []
    },
    {
      "cell_type": "code",
      "source": [],
      "metadata": {
        "id": "sw6hGu98Op23"
      },
      "execution_count": null,
      "outputs": []
    },
    {
      "cell_type": "code",
      "source": [],
      "metadata": {
        "id": "RIuDfuXZPYOf"
      },
      "execution_count": null,
      "outputs": []
    },
    {
      "cell_type": "code",
      "source": [],
      "metadata": {
        "id": "y19BWHjGPboy"
      },
      "execution_count": null,
      "outputs": []
    }
  ],
  "metadata": {
    "colab": {
      "provenance": [],
      "collapsed_sections": [
        "EgZhU6AgvuJ-"
      ]
    },
    "kernelspec": {
      "display_name": "Python 3",
      "name": "python3"
    },
    "language_info": {
      "name": "python"
    }
  },
  "nbformat": 4,
  "nbformat_minor": 0
}
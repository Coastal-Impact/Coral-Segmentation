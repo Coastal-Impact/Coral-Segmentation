{
  "nbformat": 4,
  "nbformat_minor": 0,
  "metadata": {
    "colab": {
      "provenance": []
    },
    "kernelspec": {
      "name": "python3",
      "display_name": "Python 3"
    },
    "language_info": {
      "name": "python"
    }
  },
  "cells": [
    {
      "cell_type": "code",
      "execution_count": 1,
      "metadata": {
        "colab": {
          "base_uri": "https://localhost:8080/"
        },
        "id": "KGhC-OwvTgiE",
        "outputId": "5356911a-9648-43fa-8d58-d13f02e15023"
      },
      "outputs": [
        {
          "output_type": "stream",
          "name": "stdout",
          "text": [
            "/content\n"
          ]
        }
      ],
      "source": [
        "# creating a home variable\n",
        "\n",
        "import os\n",
        "import glob\n",
        "import re\n",
        "import seaborn as sns\n",
        "import matplotlib.pyplot as plt\n",
        "import cv2\n",
        "\n",
        "\n",
        "HOME = os.getcwd()\n",
        "print(HOME)"
      ]
    },
    {
      "cell_type": "code",
      "source": [
        "# installation of libraries\n",
        "!pip install roboflow --quiet\n",
        "\n",
        "from IPython import display\n",
        "display.clear_output()\n",
        "from IPython.display import display, Image\n",
        "from roboflow import Roboflow\n",
        "import numpy as np"
      ],
      "metadata": {
        "id": "9HMWqF0CTmWg"
      },
      "execution_count": 2,
      "outputs": []
    },
    {
      "cell_type": "code",
      "source": [
        "# load the dataset\n",
        "\n",
        "!mkdir {HOME}/datasets\n",
        "%cd {HOME}/datasets\n",
        "\n",
        "rf = Roboflow(api_key=\"WifAHr5usNgAnytT03tt\")\n",
        "project = rf.workspace(\"ask-ishan\").project(\"coral-detection-ci\")\n",
        "dataset = project.version(2).download(\"yolov8\")"
      ],
      "metadata": {
        "colab": {
          "base_uri": "https://localhost:8080/"
        },
        "id": "4oL7HsLdTtp-",
        "outputId": "ee122b7e-1298-4433-8e80-14f45a802d22"
      },
      "execution_count": 3,
      "outputs": [
        {
          "output_type": "stream",
          "name": "stdout",
          "text": [
            "/content/datasets\n",
            "loading Roboflow workspace...\n",
            "loading Roboflow project...\n",
            "[WARNING] we noticed you are downloading a `yolov8` datasets but you don't have `ultralytics` installed. Roboflow `.deploy` supports only models trained with `ultralytics==8.0.134`, to intall it `pip install ultralytics==8.0.134`.\n"
          ]
        },
        {
          "output_type": "stream",
          "name": "stderr",
          "text": [
            "Downloading Dataset Version Zip in Coral-Detection-CI-2 to yolov8:: 100%|██████████| 7546/7546 [00:00<00:00, 46801.71it/s]"
          ]
        },
        {
          "output_type": "stream",
          "name": "stdout",
          "text": [
            "\n"
          ]
        },
        {
          "output_type": "stream",
          "name": "stderr",
          "text": [
            "\n",
            "Extracting Dataset Version Zip to Coral-Detection-CI-2 in yolov8:: 100%|██████████| 271/271 [00:00<00:00, 6063.82it/s]\n"
          ]
        }
      ]
    },
    {
      "cell_type": "code",
      "source": [
        "def get_data_statistics():\n",
        "  return None\n",
        "\n",
        "def mask_to_bbox(mask, img_width, img_height):\n",
        "  x_i = mask[::2]\n",
        "  y_i = mask[1::2]\n",
        "\n",
        "  x_min = min(x_i)\n",
        "  x_max = max(x_i)\n",
        "  y_min = min(y_i)\n",
        "  y_max = max(y_i)\n",
        "\n",
        "  x, x1 = x_min*img_width, x_max*img_width\n",
        "  y, y1 = y_min*img_height, y_max*img_height\n",
        "  return [round(x), round(y), round(x1), round(y1)]"
      ],
      "metadata": {
        "id": "-nL1FDRqT3_h"
      },
      "execution_count": 75,
      "outputs": []
    },
    {
      "cell_type": "code",
      "source": [
        "data_location = \"/content/datasets/Coral-Detection-CI-2/train\""
      ],
      "metadata": {
        "id": "u-aEY9ECT7R2"
      },
      "execution_count": 118,
      "outputs": []
    },
    {
      "cell_type": "code",
      "source": [
        "all_label_names = list(glob.iglob(f\"{data_location}/labels/*\"))"
      ],
      "metadata": {
        "id": "UoVxlfcvUJsC"
      },
      "execution_count": 119,
      "outputs": []
    },
    {
      "cell_type": "code",
      "source": [
        "# form main dict with above data location and label names\n",
        "main_dict = {}\n",
        "\n",
        "for label_name in all_label_names:\n",
        "  instance_dict = {}\n",
        "  with open(label_name) as f:\n",
        "        textfile = f.read()\n",
        "\n",
        "  true_classes = [int(i[0]) for i in textfile.strip().split(\"\\n\")]\n",
        "  true_masks = [[float(j) for j in i.split(' ')[1:]] for i in textfile.strip().split(\"\\n\")]\n",
        "\n",
        "  img_easy_name = label_name.split(\"/\")[-1][:-4]\n",
        "\n",
        "  opened_image = cv2.imread(re.sub(\"labels\", \"images\", label_name[:-3] + \"jpg\"))\n",
        "  opened_image = cv2.cvtColor(opened_image, cv2.COLOR_BGR2RGB)\n",
        "\n",
        "  height = opened_image.shape[0]\n",
        "  width = opened_image.shape[1]\n",
        "\n",
        "  image_size = width*height\n",
        "\n",
        "  main_dict[img_easy_name] = {\"loc\":label_name,\n",
        "                              \"instances\":{},\n",
        "                              'image_size':image_size,\n",
        "                              'image_width':width,\n",
        "                              'image_height':height}\n",
        "\n",
        "  for i, j in enumerate(true_masks):\n",
        "    instance_bbox = mask_to_bbox(j, width, height)\n",
        "    bbox_size = (instance_bbox[2] - instance_bbox[0]) * (instance_bbox[3] - instance_bbox[1])\n",
        "    bbox_center = (instance_bbox[0] + (instance_bbox[2]-instance_bbox[0])/2, instance_bbox[1] + (instance_bbox[3]-instance_bbox[1])/2)\n",
        "    bbox_image = opened_image[instance_bbox[1]:instance_bbox[3], instance_bbox[0]:instance_bbox[2]]\n",
        "    rgb_colors = np.mean(np.mean(bbox_image[:, :, :]/255, axis=0), axis=0)\n",
        "    instance_dict[i] = {\n",
        "        \"class\": true_classes[i],\n",
        "        \"bbox_size\": bbox_size,\n",
        "        \"bbox_size_proportion\": bbox_size/image_size,\n",
        "        \"bbox_center\": bbox_center,\n",
        "        \"bbox_center_proportion\": (bbox_center[1]/(width/2), bbox_center[0]/(height/2)),\n",
        "        'red_proportion': rgb_colors[0],\n",
        "        'green_proportion': rgb_colors[1],\n",
        "        'blue_proportion': rgb_colors[2]\n",
        "        }\n",
        "  main_dict[img_easy_name][\"instances\"] = instance_dict"
      ],
      "metadata": {
        "id": "h77ofF9fUXoG"
      },
      "execution_count": 120,
      "outputs": []
    },
    {
      "cell_type": "code",
      "source": [
        "# gather statistics from main_dict\n",
        "\n",
        "total_images = len(main_dict.keys())\n",
        "total_instances = 0\n",
        "total_class_0 = 0\n",
        "total_class_1 = 0\n",
        "bbox_sizes = []\n",
        "bbox_sizes_proportion = []\n",
        "\n",
        "for image_key, image_val in main_dict.items():\n",
        "  total_instances += len(image_val['instances'])\n",
        "  for instance_val in image_val['instances'].values():\n",
        "    if instance_val['class'] == 0:\n",
        "      total_class_0+=1\n",
        "    else:\n",
        "      total_class_1+=1\n",
        "    bbox_sizes.append(instance_val['bbox_size'])\n",
        "    bbox_sizes_proportion.append(instance_val['bbox_size_proportion'])"
      ],
      "metadata": {
        "id": "wtjJXZLDaw70"
      },
      "execution_count": 126,
      "outputs": []
    },
    {
      "cell_type": "code",
      "source": [
        "print(\"Total class 1 instances:\",total_class_1)\n",
        "print(\"Total class 0 instances:\", total_class_0)\n",
        "print('Total number of images', total_images)\n",
        "print('Total number of instances', total_instances)\n",
        "print(f\"Max, Min, and Avg Bbox sizes:{max(bbox_sizes)}, {min(bbox_sizes)}, {np.mean(bbox_sizes)}\")\n",
        "print(f\"Max, Min, and Avg Bbox size Proportions:{max(bbox_sizes_proportion)}, {min(bbox_sizes_proportion)}, {np.mean(bbox_sizes_proportion)}\")"
      ],
      "metadata": {
        "colab": {
          "base_uri": "https://localhost:8080/"
        },
        "id": "DTpEZZDJtBLI",
        "outputId": "2b1c3279-1b5d-4087-d3ae-6c3622e59937"
      },
      "execution_count": 132,
      "outputs": [
        {
          "output_type": "stream",
          "name": "stdout",
          "text": [
            "Total class 1 instances: 97\n",
            "Total class 0 instances: 525\n",
            "Total number of images 98\n",
            "Total number of instances 622\n",
            "Max, Min, and Avg Bbox sizes:42622, 410, 5841.948553054663\n",
            "Max, Min, and Avg Bbox size Proportions:0.13591198979591837, 0.0013073979591836735, 0.01862866247785288\n"
          ]
        }
      ]
    }
  ]
}